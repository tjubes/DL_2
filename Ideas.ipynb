{
 "cells": [
  {
   "cell_type": "markdown",
   "id": "9dc91304",
   "metadata": {},
   "source": [
    "### **DOUBTS**\n",
    "\n",
    "- Is this way of Normalize the data good?\n",
    "- Are we downsampling too much?\n",
    "- To small data set (every sample really heavy tho), \n",
    "    - Should we do CrossVal or Train/val?\n",
    "    - Try data Augmentation\n",
    "- Is this CNN_LSTM model we have good?\n",
    "- GridSearch?"
   ]
  },
  {
   "cell_type": "markdown",
   "id": "0724e9b6",
   "metadata": {},
   "source": [
    "### **Ideas:**\n",
    "- if the accuracy is really bad due to our sample size, we could use transfer learning.\n",
    "- if the accuracy is really bad due to our sample size, we could use switch the CNN part 1D/2D as described in paper (ask Marc).\n",
    "- We all can try to play with downsizing, model paramiters, achitectures, models, ... to get better results\n"
   ]
  },
  {
   "cell_type": "markdown",
   "id": "95dec415",
   "metadata": {},
   "source": [
    "### **For the CNN LSTM i would try:**"
   ]
  },
  {
   "cell_type": "markdown",
   "id": "c46bc5d4",
   "metadata": {},
   "source": [
    "### CNN over sensors + LSTM over time (Actual)\n",
    "\n",
    "Treat each time point as a 1D “image” over the 200 sensors.\n",
    "\n",
    "- Input shape: (10000, 200) → reshape to (10000, 200, 1) if using Conv2D.\n",
    "\n",
    "- CNN Layer:\n",
    "\n",
    "    - Use 1D convolutions across the sensor axis to extract spatial patterns.\n",
    "\n",
    "    - Example: Conv1D(filters=64, kernel_size=5, activation='relu', padding='same')\n",
    "\n",
    "    - This outputs a tensor of shape (10000, new_features).\n",
    "\n",
    "- LSTM Layer:\n",
    "\n",
    "    - Feed the output of CNN to an LSTM to capture temporal dependencies.\n",
    "\n",
    "    - Example: LSTM(128, return_sequences=False)\n",
    "\n",
    "- Fully Connected + Output Layer"
   ]
  },
  {
   "cell_type": "markdown",
   "id": "eb292e5c",
   "metadata": {},
   "source": [
    "### Spatio-Temporal CNN → BiLSTM\n",
    "\n",
    "mix spatial and temporal convolutions before feeding into BiLSTM:\n",
    "\n",
    "- Use Conv2D with shape (time_window, num_sensors) to extract local spatio-temporal features.\n",
    "\n",
    "- Apply multiple Conv2D layers\n",
    "\n",
    "- Flatten or time-distribute to LSTM\n",
    "\n",
    "(This is more complex, but powerful)."
   ]
  }
 ],
 "metadata": {
  "language_info": {
   "name": "python"
  }
 },
 "nbformat": 4,
 "nbformat_minor": 5
}
