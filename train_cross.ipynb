{
 "cells": [
  {
   "cell_type": "code",
   "execution_count": null,
   "id": "d5868605",
   "metadata": {},
   "outputs": [
    {
     "name": "stdout",
     "output_type": "stream",
     "text": [
      "<class 'numpy.ndarray'>\n",
      "(248, 35624)\n"
     ]
    }
   ],
   "source": [
    "import numpy as np\n",
    "from utilities import *\n",
    "\n",
    "\n",
    "# Use os.path.join() to create the correct file path\n",
    "filepath = os.path.join(get_filepath(), \"Intra\", \"train\", \"rest_105923_1.h5\")\n",
    "\n",
    "# Load the data\n",
    "data = read_h5py_file(filepath)\n",
    "\n"
   ]
  },
  {
   "cell_type": "markdown",
   "id": "d0eab9ce",
   "metadata": {},
   "source": [
    "The files have the following format: “taskType subjectIdentifier number.h5”\n",
    "where taskType can be rest, task motor, task story math, and task working memory.\n",
    "In practice, these tasks correspond to the activities performed by the subjects:\n",
    "\n",
    "• Resting Task: Recording the subjects’ brain while in a relaxed resting\n",
    "state.\n",
    "\n",
    "• Math & Story Task : Subject performs mental calculation and language\n",
    "processing task.\n",
    "\n",
    "• Working Memory task: Subject performs a memorization task.\n",
    "\n",
    "• Motor Task : Subject performs a motor task, typically moving fingers or feets.\n",
    "\n",
    "The subject identifier is made of 6 numbers, and the number at the end cor-\n",
    "responds to a chunk part. This number has no particular meaning (splitted\n",
    "files are easier to handle in terms of memory management). The folder “In-\n",
    "tra” contains the files of 1 subject only. In the folder “Cross”, 2 subjects are\n",
    "contained in the train folder while the 3 test folders contain different subjects\n",
    "from the ones contained in the train folder. As seen in the section above, each\n",
    "2 file is represented by a matrix of shape 248 x 35624. The number of rows, 248,\n",
    "corresponds to the number of magnetometer sensors placed on the human scalp.\n",
    "The number of columns, 35624, corresponds to the time steps of a recording."
   ]
  },
  {
   "cell_type": "code",
   "execution_count": null,
   "id": "8ae88f1d",
   "metadata": {},
   "outputs": [],
   "source": []
  },
  {
   "cell_type": "code",
   "execution_count": null,
   "id": "6d06a571",
   "metadata": {},
   "outputs": [],
   "source": []
  },
  {
   "cell_type": "code",
   "execution_count": null,
   "id": "676be6e1",
   "metadata": {},
   "outputs": [],
   "source": []
  }
 ],
 "metadata": {
  "kernelspec": {
   "display_name": "torch",
   "language": "python",
   "name": "python3"
  },
  "language_info": {
   "codemirror_mode": {
    "name": "ipython",
    "version": 3
   },
   "file_extension": ".py",
   "mimetype": "text/x-python",
   "name": "python",
   "nbconvert_exporter": "python",
   "pygments_lexer": "ipython3",
   "version": "3.12.9"
  }
 },
 "nbformat": 4,
 "nbformat_minor": 5
}
